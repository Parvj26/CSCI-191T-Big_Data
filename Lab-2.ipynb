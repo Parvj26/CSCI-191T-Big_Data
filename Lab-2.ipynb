{
 "cells": [
  {
   "cell_type": "code",
   "execution_count": 7,
   "metadata": {},
   "outputs": [
    {
     "name": "stdout",
     "output_type": "stream",
     "text": [
      "Open Lockers:  [1, 4, 9, 16, 25, 36, 49, 64, 81, 100, 121, 144, 169, 196, 225, 256, 289, 324, 361, 400, 441, 484, 529, 576, 625, 676, 729, 784, 841, 900, 961]\n"
     ]
    }
   ],
   "source": [
    "#Parv Jain\n",
    "#Student ID: 109910209\n",
    "#1\n",
    "\n",
    "lockers = []             #intiliaize the list\n",
    "for i in range(0,1000):\n",
    "    lockers.append(False) #setting the value of each element to false\n",
    "\n",
    "for i in range(0, len(lockers)+1):         #number of people toggling the locker\n",
    "    for j in range (0, len(lockers)+1):     #to toggle particular locker\n",
    "            \n",
    "        n = i*j        \n",
    "        if n < 1000:             \n",
    "            if lockers[n] == True:   # if the locker is open we close it\n",
    "                 lockers[n] = False\n",
    "            else:                   # if it's closed we open it\n",
    "                  lockers[n] = True\n",
    "        else:\n",
    "            break            #to check if out of range\n",
    "                \n",
    "\n",
    "    \n",
    "open_lockers=[i for i in range(1,len(lockers)) if lockers[i]== True]  #using list comperhension to output the product in one single list \n",
    "print(\"Open Lockers: \",open_lockers)"
   ]
  },
  {
   "cell_type": "code",
   "execution_count": 9,
   "metadata": {},
   "outputs": [
    {
     "name": "stdout",
     "output_type": "stream",
     "text": [
      "List of Prime numbers =  [3, 7, 31, 127, 8191, 131071, 524287, 2147483647]\n",
      "List of all indices =  [2, 3, 5, 7, 13, 17, 19, 31]\n"
     ]
    }
   ],
   "source": [
    "import math\n",
    "def primex(n):      #to check for prime number \n",
    "    \n",
    "    for i in range(2, int(math.sqrt(n))+1): # to see if it divisible by any other number\n",
    "        if(n%i == 0):                    \n",
    "            return False         # false if divisible by any other number\n",
    "\n",
    "    return True  # true if the number is prime \n",
    "\n",
    "mersenne_list = [2**n -1 for n in range(2,32)]  #Mersenne list of primes using list comperhension\n",
    "\n",
    "\n",
    "prime_list = [mersenne_list[i] for i in range(0,len(mersenne_list)) if primex(mersenne_list[i])]  # generate perfect prime numbers list\n",
    "index_list = [n for n in range(2,32) if primex(2**n -1) ] # generate list of all n values in 2**n-1 of prime numbers\n",
    "\n",
    "print(\"Prime numbers = \",prime_list) #prin the list of prime numbers \n",
    "print(\"List of all indices = \",index_list) #print the index of n in 2**n -1 which are actual prime numbers"
   ]
  },
  {
   "cell_type": "code",
   "execution_count": null,
   "metadata": {},
   "outputs": [],
   "source": []
  }
 ],
 "metadata": {
  "kernelspec": {
   "display_name": "Python 3",
   "language": "python",
   "name": "python3"
  },
  "language_info": {
   "codemirror_mode": {
    "name": "ipython",
    "version": 3
   },
   "file_extension": ".py",
   "mimetype": "text/x-python",
   "name": "python",
   "nbconvert_exporter": "python",
   "pygments_lexer": "ipython3",
   "version": "3.7.4"
  }
 },
 "nbformat": 4,
 "nbformat_minor": 2
}
